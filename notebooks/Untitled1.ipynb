{
 "cells": [
  {
   "cell_type": "code",
   "execution_count": 58,
   "metadata": {},
   "outputs": [],
   "source": [
    "import re \n",
    "import os\n",
    "import gensim\n",
    "import numpy as np\n",
    "from gensim.models import Word2Vec, FastText\n",
    "\n",
    "###### SECTION 1 DATA PREPROCESSING ######\n",
    "l=[]\n",
    "with open('all_linkedin_skill_data') as f:\n",
    "    mylist = list(f)\n",
    "    temp = mylist[0]\n",
    "    l = temp.split(']')\n",
    "    l.pop(0)\n",
    "for x in range(0,len(l)):\n",
    "    l[x] = l[x][3:]\n",
    "    l[x] = l[x].split(', ')\n"
   ]
  },
  {
   "cell_type": "code",
   "execution_count": 61,
   "metadata": {},
   "outputs": [],
   "source": [
    "###### SECTION 2 TRAINING #######\n",
    "\n",
    "#CBOW model\n",
    "'''if not os.path.exists('model_out'):\n",
    "    model1 = gensim.models.Word2Vec(l, min_count = 1, size = 100, window = 5)\n",
    "    model1.save('model_out')'''\n",
    "# a = input(\"Enter first skill:\").lower()\n",
    "# b = input(\"Enter second skill:\").lower()\n",
    "# model.similarity(a,b)\n",
    "\n",
    "# Skip Gram Model\n",
    "#if not os.path.exists('model_out'):\n",
    "model2 = gensim.models.Word2Vec(l, min_count = 1, vector_size = 300, window = 5, sg = 1) \n",
    "model2.save('model_out')"
   ]
  },
  {
   "cell_type": "code",
   "execution_count": 1,
   "metadata": {},
   "outputs": [
    {
     "ename": "NameError",
     "evalue": "name 'model2' is not defined",
     "output_type": "error",
     "traceback": [
      "\u001b[0;31m---------------------------------------------------------------------------\u001b[0m",
      "\u001b[0;31mNameError\u001b[0m                                 Traceback (most recent call last)",
      "\u001b[0;32m<ipython-input-1-714b83d4662f>\u001b[0m in \u001b[0;36m<module>\u001b[0;34m\u001b[0m\n\u001b[0;32m----> 1\u001b[0;31m \u001b[0mmodel2\u001b[0m\u001b[0;34m.\u001b[0m\u001b[0mwv\u001b[0m\u001b[0;34m.\u001b[0m\u001b[0mmost_similar\u001b[0m\u001b[0;34m(\u001b[0m\u001b[0;34m'\"javascript\"'\u001b[0m\u001b[0;34m,\u001b[0m \u001b[0mtopn\u001b[0m\u001b[0;34m=\u001b[0m\u001b[0;36m50\u001b[0m\u001b[0;34m)\u001b[0m\u001b[0;34m\u001b[0m\u001b[0;34m\u001b[0m\u001b[0m\n\u001b[0m",
      "\u001b[0;31mNameError\u001b[0m: name 'model2' is not defined"
     ]
    }
   ],
   "source": [
    "model2.wv.most_similar('\"javascript\"', topn=50)"
   ]
  },
  {
   "cell_type": "code",
   "execution_count": null,
   "metadata": {},
   "outputs": [],
   "source": [
    "# c = input(\"Enter first skill:\").lower()\n",
    "# d = input(\"Enter second skill:\").lower()\n",
    "# model_new = Word2Vec.load('model_out')\n",
    "# print(model_new.similarity(c,d))\n",
    "\n",
    "#(OPTIONAL) SMARTER LEARNING TASK THAN A SIMPLE WORD2VEC\n",
    "\n",
    "# if not os.path.exists('model_fast_out'):\n",
    "#     model3 = FastText(lastreadchar, size =100, window=5, min_count=5, workers=4, sg=1)\n",
    "#     model3.save('model_fast_out')\n",
    "# model_fast_new = FastText.load('model_fast_out')\n",
    "# e = input(\"Enter first skill:\").lower()\n",
    "# f = input(\"Enter second skill:\").lower()\n",
    "# print(model_new.similarity(e,f))\n",
    "\n",
    "###### SECTION 3 VISUALIZATION USING TENSORBOARD ######\n",
    "\n",
    "# model2 = gensim.models.keyedvectors.KeyedVectors.load('model_out')\n",
    "# max_size = len(model2.wv.vocab)-1\n",
    "# w2v = np.zeros((max_size,model2.layer1_size))\n",
    "# if not os.path.exists('projections'):\n",
    "#     os.makedirs('projections')\n",
    "# with open(\"projections/metadata.tsv\",\"w+\") as file_metadata:\n",
    "#     for i, word in enumerate(model2.wv.index2word[:max_size]):\n",
    "#         w2v[i] = model2.wv[word]\n",
    "#         file_metadata.write(word + '\\n')\n",
    "# sess = tf.InteractiveSession()\n",
    "# with tf.device(\"/cpu:0\"):\n",
    "#     embedding = tf.Variable(w2v, trainable=False, name='embedding')\n",
    "# tf.global_variables_initializer().run()\n",
    "# saver = tf.train.Saver()\n",
    "# writer = tf.summary.FileWriter('projections',sess.graph)\n",
    "# config = projector.ProjectorConfig()\n",
    "# embed = config.embeddings.add()\n",
    "# embed.tensor_name = 'embedding'\n",
    "# embed.metadata_path = 'metadata.tsv'\n",
    "# projector.visualize_embeddings(writer, config)\n",
    "# saver.save(sess, 'projections/model.ckpt', global_step=max_size)\n",
    "\n"
   ]
  }
 ],
 "metadata": {
  "kernelspec": {
   "display_name": "Python 3",
   "language": "python",
   "name": "python3"
  },
  "language_info": {
   "codemirror_mode": {
    "name": "ipython",
    "version": 3
   },
   "file_extension": ".py",
   "mimetype": "text/x-python",
   "name": "python",
   "nbconvert_exporter": "python",
   "pygments_lexer": "ipython3",
   "version": "3.8.5"
  }
 },
 "nbformat": 4,
 "nbformat_minor": 4
}
