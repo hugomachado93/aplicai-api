{
 "cells": [
  {
   "cell_type": "code",
   "execution_count": 1,
   "metadata": {},
   "outputs": [
    {
     "name": "stderr",
     "output_type": "stream",
     "text": [
      "/home/hugo/anaconda3/lib/python3.8/site-packages/gensim/similarities/__init__.py:10: UserWarning: The gensim.similarities.levenshtein submodule is disabled, because the optional Levenshtein package <https://pypi.org/project/python-Levenshtein/> is unavailable. Install Levenhstein (e.g. `pip install python-Levenshtein`) to suppress this warning.\n",
      "  warnings.warn(\n"
     ]
    }
   ],
   "source": [
    "#firebase\n",
    "import pandas as pd\n",
    "import firebase_admin\n",
    "from firebase_admin import credentials\n",
    "from firebase_admin import firestore\n",
    "#gensim\n",
    "import pandas as pd\n",
    "import numpy as np\n",
    "import random\n",
    "from tqdm import tqdm\n",
    "from gensim.models import Word2Vec\n",
    "import matplotlib.pyplot as plt\n",
    "import gensim.downloader as api\n",
    "import json\n",
    "from gensim.models import KeyedVectors\n",
    "from gensim.test.utils import common_texts\n",
    "import spacy\n",
    "from itertools import chain\n",
    "from sklearn.metrics.pairwise import cosine_similarity\n",
    "%matplotlib inline"
   ]
  },
  {
   "cell_type": "code",
   "execution_count": 2,
   "metadata": {},
   "outputs": [],
   "source": [
    "# Use a service account\n",
    "cred = credentials.Certificate('aplicai-firebase-adminsdk-585py-b252b67ff6.json')\n",
    "firebase_admin.initialize_app(cred, {'projectId': 'aplicai'})\n",
    "db = firestore.client()"
   ]
  },
  {
   "cell_type": "code",
   "execution_count": 3,
   "metadata": {},
   "outputs": [],
   "source": [
    "snapshots = list(db.collection(u'Users').where(u'isFinished', u'==', True).stream())\n",
    "user_list = []\n",
    "user_skills_list = []\n",
    "for snapshot in snapshots:\n",
    "    snapshot_to_dict = snapshot.to_dict()\n",
    "    snapshot_to_dict.update({'user_id': snapshot.id})\n",
    "    user_list.append(snapshot_to_dict)\n",
    "    user_skills_list.append([skill.lower() for skill in snapshot_to_dict['categories']])"
   ]
  },
  {
   "cell_type": "code",
   "execution_count": 4,
   "metadata": {},
   "outputs": [
    {
     "data": {
      "text/plain": [
       "[['java', 'c+'],\n",
       " ['java', 'c++', 'banco de dados'],\n",
       " ['javascript', 'html', 'css']]"
      ]
     },
     "execution_count": 4,
     "metadata": {},
     "output_type": "execute_result"
    }
   ],
   "source": [
    "user_skills_list"
   ]
  },
  {
   "cell_type": "code",
   "execution_count": 9,
   "metadata": {},
   "outputs": [],
   "source": [
    "user_demand_list = []\n",
    "user_demands_skills_list = []\n",
    "for user in user_list:\n",
    "    snapshots = list(db.collection(u'Users').document(user['user_id']).collection(u'Demands').stream())\n",
    "    demand_list = []\n",
    "    skills_list = []\n",
    "    for snapshot in snapshots:\n",
    "        snapshot_to_dict = snapshot.to_dict()\n",
    "        snapshot_to_dict.update({'demand_id': snapshot.id})\n",
    "        demand_list.append(snapshot_to_dict)\n",
    "        skills_list.append([skill.lower() for skill in snapshot_to_dict['categories']])\n",
    "    user_demand_list.append(demand_list)\n",
    "    user_demands_skills_list.append(list(chain.from_iterable(skills_list)))"
   ]
  },
  {
   "cell_type": "code",
   "execution_count": 10,
   "metadata": {},
   "outputs": [
    {
     "data": {
      "text/plain": [
       "[['java', 'c++'],\n",
       " ['javascript', 'java', 'c++'],\n",
       " ['javascript', 'java', 'c++', 'java']]"
      ]
     },
     "execution_count": 10,
     "metadata": {},
     "output_type": "execute_result"
    }
   ],
   "source": [
    "user_demands_skills_list"
   ]
  },
  {
   "cell_type": "code",
   "execution_count": 15,
   "metadata": {},
   "outputs": [],
   "source": [
    "user_joined_perfil_demand_skills = []\n",
    "for index in range(len(user_skills_list)):\n",
    "    user_joined_perfil_demand_skills.append(list(set(user_skills_list[index] + user_demands_skills_list[index])))"
   ]
  },
  {
   "cell_type": "code",
   "execution_count": 16,
   "metadata": {},
   "outputs": [
    {
     "data": {
      "text/plain": [
       "[['c+', 'java', 'c++'],\n",
       " ['banco de dados', 'java', 'javascript', 'c++'],\n",
       " ['java', 'javascript', 'html', 'css', 'c++']]"
      ]
     },
     "execution_count": 16,
     "metadata": {},
     "output_type": "execute_result"
    }
   ],
   "source": [
    "user_joined_perfil_demand_skills"
   ]
  },
  {
   "cell_type": "code",
   "execution_count": null,
   "metadata": {},
   "outputs": [],
   "source": []
  }
 ],
 "metadata": {
  "kernelspec": {
   "display_name": "Python 3",
   "language": "python",
   "name": "python3"
  },
  "language_info": {
   "codemirror_mode": {
    "name": "ipython",
    "version": 3
   },
   "file_extension": ".py",
   "mimetype": "text/x-python",
   "name": "python",
   "nbconvert_exporter": "python",
   "pygments_lexer": "ipython3",
   "version": "3.8.5"
  }
 },
 "nbformat": 4,
 "nbformat_minor": 4
}
